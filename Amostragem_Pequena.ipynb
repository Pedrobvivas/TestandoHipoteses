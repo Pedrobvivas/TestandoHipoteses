{
  "nbformat": 4,
  "nbformat_minor": 0,
  "metadata": {
    "colab": {
      "provenance": [],
      "authorship_tag": "ABX9TyNVnFKeEaaJzJTaopQvOfDm",
      "include_colab_link": true
    },
    "kernelspec": {
      "name": "python3",
      "display_name": "Python 3"
    },
    "language_info": {
      "name": "python"
    }
  },
  "cells": [
    {
      "cell_type": "markdown",
      "metadata": {
        "id": "view-in-github",
        "colab_type": "text"
      },
      "source": [
        "<a href=\"https://colab.research.google.com/github/Pedrobvivas/TestandoHipoteses/blob/main/Amostragem_Pequena.ipynb\" target=\"_parent\"><img src=\"https://colab.research.google.com/assets/colab-badge.svg\" alt=\"Open In Colab\"/></a>"
      ]
    },
    {
      "cell_type": "code",
      "execution_count": null,
      "metadata": {
        "id": "I1FbrI1a-NAA"
      },
      "outputs": [],
      "source": [
        "# A pergunta da empresa é a seguinte: A média do nosso suporte dura menos de 30 minutos?\n",
        "\n",
        "# Tempo de resposta em minutos para 25 solicitações de suporte\n",
        "tempo_resposta = [28, 32, 29, 31, 30, 33, 28, 30, 31, 29,\n",
        "                  30, 32, 29, 31, 30, 33, 28, 30, 31, 29,\n",
        "                  30, 32, 24, 29, 30]\n"
      ]
    },
    {
      "cell_type": "markdown",
      "source": [
        "Minha hipóteses, sendo H₀ a hipótese nula e H₁ a hipótese alternativa\n",
        "\n",
        "\n",
        "H₀: μ = 30\n",
        "H₁: μ < 30"
      ],
      "metadata": {
        "id": "-0FY-AbH-nXD"
      }
    },
    {
      "cell_type": "code",
      "source": [
        "import numpy as np\n",
        "\n",
        "np.mean(tempo_resposta)"
      ],
      "metadata": {
        "colab": {
          "base_uri": "https://localhost:8080/"
        },
        "id": "xjOcNLqv-oAR",
        "outputId": "eada8cac-b6ba-4c01-e119-b66a093729d2"
      },
      "execution_count": null,
      "outputs": [
        {
          "output_type": "execute_result",
          "data": {
            "text/plain": [
              "29.96"
            ]
          },
          "metadata": {},
          "execution_count": 3
        }
      ]
    },
    {
      "cell_type": "code",
      "source": [
        "from scipy.stats import ttest_1samp\n",
        "\n",
        "stats, p_valor = ttest_1samp(tempo_resposta , 30, alternative = \"less\")\n",
        "print(p_valor)"
      ],
      "metadata": {
        "colab": {
          "base_uri": "https://localhost:8080/"
        },
        "id": "jZMMAKR5-2xN",
        "outputId": "d800b19a-1f7d-48e6-9002-892611ee11e3"
      },
      "execution_count": null,
      "outputs": [
        {
          "output_type": "stream",
          "name": "stdout",
          "text": [
            "0.4585970095667924\n"
          ]
        }
      ]
    },
    {
      "cell_type": "code",
      "source": [
        "# Considerando 95%\n",
        "nivel_significancia = 0.05\n",
        "\n",
        "if p_valor < nivel_significancia:\n",
        "  conclusao = \"Rejeitar Hipótese nula\"\n",
        "else:\n",
        "  conclusao = \"Não rejeitar Hipótese nula\"\n",
        "\n",
        "conclusao"
      ],
      "metadata": {
        "colab": {
          "base_uri": "https://localhost:8080/",
          "height": 35
        },
        "id": "gfTlaDL2_-r_",
        "outputId": "217e3635-f665-4101-fef8-def0309099f2"
      },
      "execution_count": null,
      "outputs": [
        {
          "output_type": "execute_result",
          "data": {
            "text/plain": [
              "'Não rejeitar Hipótese nula'"
            ],
            "application/vnd.google.colaboratory.intrinsic+json": {
              "type": "string"
            }
          },
          "metadata": {},
          "execution_count": 12
        }
      ]
    },
    {
      "cell_type": "markdown",
      "source": [
        "Conclusão: Não há evidências estatísticas para afirmar que o tempo médio do suporte é menor que 30 minutos"
      ],
      "metadata": {
        "id": "ih3lX_s1Adfp"
      }
    }
  ]
}